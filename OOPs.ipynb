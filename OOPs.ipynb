{
  "nbformat": 4,
  "nbformat_minor": 0,
  "metadata": {
    "colab": {
      "provenance": []
    },
    "kernelspec": {
      "name": "python3",
      "display_name": "Python 3"
    },
    "language_info": {
      "name": "python"
    }
  },
  "cells": [
    {
      "cell_type": "markdown",
      "source": [
        "**Python OOPs Questions:**"
      ],
      "metadata": {
        "id": "X5lMvNAZWLJO"
      }
    },
    {
      "cell_type": "markdown",
      "source": [
        "1. What is Object-Oriented Programming (OOP)?\n",
        "\n",
        "->Object-Oriented programming is a programming paradigm that organizes software design around objects rather than functions and logic. It is based don four main principles:\n",
        "\n",
        "\n",
        "\n",
        "* Encapsulation - Bundling data and methods that operate on the dazta into a single unit called a class. This protects the data from direct access and modification.\n",
        "\n",
        "* Abstraction - Hiding complex implenentation details and exposing only the necessary functionality to users.\n",
        "\n",
        "* Inheritance - Allowing one class to inherit the properties and behavior of another class, promoting code reusability.\n",
        "\n",
        "* Polymorphism - Enablimg a single function or method to operate in different ways depending on the object it is acting upon.\n",
        "\n",
        "\n",
        "\n",
        "\n",
        "\n"
      ],
      "metadata": {
        "id": "lbi-8r7yEdRG"
      }
    },
    {
      "cell_type": "markdown",
      "source": [
        "2. What is a class in OOP?\n",
        "\n",
        "->In object-oriented programming (OOP), a class is a blueprint or template for creating objects. It defines attributes and methods that describe the behavior and properties of objects.\n",
        "\n"
      ],
      "metadata": {
        "id": "5-c0Hd2AGFI6"
      }
    },
    {
      "cell_type": "markdown",
      "source": [
        "3. What is an object in OOP?\n",
        "\n",
        "->An object is an instance of a class. It represents a real-world entity with specific propertiws and behaviors.\n",
        "\n"
      ],
      "metadata": {
        "id": "U3x9yjz9GsRL"
      }
    },
    {
      "cell_type": "markdown",
      "source": [
        "4. What is the difference between abstraction and encapsulation?\n",
        "\n",
        "->Difference:\n",
        "\n",
        "1. Abstraction focuses on hiding complex implementation details and exposing only the essential functionality. It defines what an object does rather than how it does it, making systems simpler and more user-friendly. This is achieved using abstract classes and interfaces. For example, when driving a car, you use the steering wheel without knowing its internal mechanics.\n",
        "\n",
        "2. Encapsulation, on the other hand, protects data by restricting direct access and allowing modifications only through defined methods. It wraps data and methods into a single unit, typically a class, using access modifiers like private and public. A real-world example is a car engine, which is enclosed and accessible only through controlled inputs like the accelerator.\n",
        "\n"
      ],
      "metadata": {
        "id": "0Kf8EJDIHbGs"
      }
    },
    {
      "cell_type": "markdown",
      "source": [
        "5. What are dunder methods in Python?\n",
        "\n",
        "->Dunder methods are special methods in python that satrt and end with double undderscores (e.g., __init__, __str__, __len__). They are also called magic methods because they enable built-in behavior for objects, such as initialization, string representation, and operator overloading.\n",
        "\n"
      ],
      "metadata": {
        "id": "pWoTMyHRJIOk"
      }
    },
    {
      "cell_type": "markdown",
      "source": [
        "6. Explain the concept of inheritance in OOPH.\n",
        "\n",
        "->Inheritance is an important concept in object-oriented programming that allows a child class to inherit attributes and methods from a parent class. It promotes code reusability, hierarchy, and maintainability by enabling new class to build upon existing ones.\n",
        "\n"
      ],
      "metadata": {
        "id": "kBg9Fw4cJ5eP"
      }
    },
    {
      "cell_type": "markdown",
      "source": [
        "7. What is polymorphism in OOP?\n",
        "\n",
        "->Polymorphism means \"many forms.\" In object-Orientes programming, it allows objects of different classes to be treated as if they are objects of a common superclass. It enables code flexibility, reusability, and maintainability by allowing a single function, method, or operator to work in multiple ways.\n",
        "\n",
        "\n"
      ],
      "metadata": {
        "id": "I15XddI8KhIp"
      }
    },
    {
      "cell_type": "markdown",
      "source": [
        "8. How is encapsulation achieved in Python?\n",
        "\n",
        "->Encapsulation is the process of restricting direct access to an objects's data and allowing modifications only through controlled methods. It helps in data hiding, security, and better organization of code.\n",
        "\n"
      ],
      "metadata": {
        "id": "67U_RNuQLYOy"
      }
    },
    {
      "cell_type": "markdown",
      "source": [
        "9. What is a constructor in Python?\n",
        "\n",
        "->A constructor is a special method in python that is automatically calles when a new object of a class is crwated. It is used to initialize attributes and set up the object's initial state.\n",
        "\n"
      ],
      "metadata": {
        "id": "xOU9AWfsL8vM"
      }
    },
    {
      "cell_type": "markdown",
      "source": [
        "10. What are class and static methods in Python?\n",
        "\n",
        "->In python, class methods and static methods are special types of methods that differ from regular instance methods. They are defined using decorators:\n",
        "\n",
        "\n",
        "1. Class Method(@classmethod):\n",
        "\n",
        "->Works on the class instead of an instance.\n",
        "\n",
        "->Takes cls as the first parameter.\n",
        "\n",
        "->Can modify class-level variables but not instance variables.\n",
        "\n",
        "2. Static Method(@staticmethod):\n",
        "\n",
        "->Does not take self or cls as a parameter.\n",
        "\n",
        "->Works like a normal function inside a class but is logically related to the class.\n",
        "\n",
        "->Cannot modify instance or class variables.\n",
        "\n"
      ],
      "metadata": {
        "id": "FrjwPKTFMbj8"
      }
    },
    {
      "cell_type": "markdown",
      "source": [
        "11. What is method overloading in Python?\n",
        "\n",
        "->Method overloading is the ability to define multiple methods with the same name but different parameters. However, python does not support traditional method overloading like java or C++. Instead, it can be achieved using default arguments or *args and **kwargs.\n",
        "\n"
      ],
      "metadata": {
        "id": "Hfo_8nWdN1Gm"
      }
    },
    {
      "cell_type": "markdown",
      "source": [
        "12. What is method overriding in OOP?\n",
        "\n",
        "->Method overriding allows a child class to provide a specific implemenr=tation of a method that is already defined in its parent class. It is a key feature of polymorphism, ensuring that the child class method is used instead of the parent class method.\n",
        "\n"
      ],
      "metadata": {
        "id": "5A-bxCfRTP3t"
      }
    },
    {
      "cell_type": "markdown",
      "source": [
        "13. What is a property decorator in Python?\n",
        "\n",
        "->The @property decorator in python is used to define getter methods in an elegant and readable way. It allows a method to be accesssed like an attribute, without needing parentheses ().\n",
        "\n",
        "It helps in:\n",
        "\n",
        "-> Encapsulation - Contrlos access to instance attributes.\n",
        "\n",
        "-> Read-Only attributes - Prevents direct modification of values.\n",
        "\n",
        "-> Computed properties - Allowa dynamic calculations on attributet access.\n",
        "\n"
      ],
      "metadata": {
        "id": "x1gN8clxT4Lc"
      }
    },
    {
      "cell_type": "markdown",
      "source": [
        "14. Why is polymorphism important in OOP?\n",
        "\n",
        "->Polymorphism is a fundamental concept in object-oriented programming that allows the same inerface to be used for different data types. It enhances code flexibility, reusability, and scalability.\n",
        "\n",
        "\n",
        "\n"
      ],
      "metadata": {
        "id": "uEsM0d6RU1Jf"
      }
    },
    {
      "cell_type": "markdown",
      "source": [
        "15. What is an abstract class in Python?\n",
        "\n",
        "->An abstract class in python is a class that cannot be instantiated and is meant to be inherited by subclasses. It defines a blueprint for other classes by enforcing the implementation of specific methods.\n",
        "\n"
      ],
      "metadata": {
        "id": "gdst_QP3VlhW"
      }
    },
    {
      "cell_type": "markdown",
      "source": [
        "16. What are the advantages of OOP?\n",
        "\n",
        "->Object-Oriented programming provides a structured approach to software development by organizing code into objects. It offers several key benefits:\n",
        "\n",
        "1. Code reusability (Inheritance)\n",
        "2. Code maintainability & Scalability\n",
        "3. Data security (Encapsulation)\n",
        "4. Improved code organization (Modularity)\n",
        "5. Flexibility (Polymorphism)\n",
        "6. Real-world mapping\n"
      ],
      "metadata": {
        "id": "kPEXZnEaWQuY"
      }
    },
    {
      "cell_type": "markdown",
      "source": [
        "17. What is the difference between a class variable and an instance variable?\n",
        "\n",
        "->In python, class variables are shared across all instances of a class, while instance variables are unique to each object. A class variable is defined inside the class but outside any method, and modifying it affects all instances. For example, if wheels = 4 is a class variable in a car class, akk car objects will have wheels.\n",
        "\n",
        "->In contrast, an instance variable is defined inside the __init__() method and stores data specific to each object. For example, if brand and color are instance variables, each car object can have different values. Changing an instance variable affects only that object.\n"
      ],
      "metadata": {
        "id": "nhwyEXbjXvDD"
      }
    },
    {
      "cell_type": "markdown",
      "source": [
        "18. What is multiple inheritance in Python?\n",
        "\n",
        "->Multiple inheritance is a feature in python where a class can inherit attritubes and methids from than one parent class. This allows a child class to access the functionalities of multiple base classes, promoting code reusability and flexibility.\n",
        "\n"
      ],
      "metadata": {
        "id": "IkWGXvM7ZGQV"
      }
    },
    {
      "cell_type": "markdown",
      "source": [
        " 19. Explain the purpose of ‘’__str__’ and ‘__repr__’ ‘ methods in Python.\n",
        "\n",
        " ->In python, both__str__ and __repr__ are dunder methods that define how object are represented as strings. WHile they serve similar purposes, they are used in different contexts.\n",
        "\n",
        " ->__str__() - User-Friendly string Represenatation:\n",
        "\n",
        " The __str__ method is used to return a human-readable or user-friendly string representation of an object. It is called when you use print(object) or str (object)\n",
        "\n",
        "-> __repr__() - Developer-Freindly Represenatation:\n",
        "\n",
        "The__repr__method is used to return an unambiguous, developer-friendly represenatation of an object. It is meant to be used for debugging and should ideally return a valid python expression taht can recreate the object.\n",
        "\n",
        "\n",
        ""
      ],
      "metadata": {
        "id": "pis1GMw5Zr9B"
      }
    },
    {
      "cell_type": "markdown",
      "source": [
        "20. What is the significance of the ‘super()’ function in Python?\n",
        "\n",
        "->The super() function in python is used to call methods from a parent inside a child. It allows access to inherited methods without explicity referring to the parent class, making code more maintainable and flexible.\n",
        "\n"
      ],
      "metadata": {
        "id": "kgs_5DL5bfJi"
      }
    },
    {
      "cell_type": "markdown",
      "source": [
        "21. What is the significance of the __del__ method in Python?\n",
        "\n",
        "->The __del__ method, also known as the destructor, is a special method in python that is automatically called when an object is about to be destroyed (i.e., when it goes out of scope is deleted using del). It is mainly used for vleanup operations like closing files, releasing resources, or logging when an object is deleted.\n",
        "\n"
      ],
      "metadata": {
        "id": "51r2meUXcQMn"
      }
    },
    {
      "cell_type": "markdown",
      "source": [
        "22. What is the difference between @staticmethod and @classmethod in Python?\n",
        "\n",
        "->In python, both @staticmethod and @classmethod are decorators that modify the behavior of methods inside a class. However, they differ in how they interact with class attributes and instances.\n",
        "\n",
        "1. @staticmethod - Independent function inside a class:\n",
        "\n",
        "A static method does not depend on the class or instance. It behaves like a regular function but is placed inside a class for better organization. it does not receive self or cls as parameters.\n",
        "\n",
        "2. @classmethod - Works with class (cls):\n",
        "\n",
        "A class method receives a references to the class as its first parameter and can modify class variables. It is useful when you want to create or modify class-level data.\n",
        "\n"
      ],
      "metadata": {
        "id": "8TOjjq5Pc8Kp"
      }
    },
    {
      "cell_type": "markdown",
      "source": [
        "23. How does polymorphism work in Python with inheritance?\n",
        "\n",
        "->Polymorphism in python allows the same method name to be used in different classes, providing different behaviors depending on the object that calls it. It enables code reusability and flexibility, especially when combined with inheritance.\n",
        "\n",
        "\n"
      ],
      "metadata": {
        "id": "O9xhCG5yemb6"
      }
    },
    {
      "cell_type": "markdown",
      "source": [
        "24. What is method chaining in Python OOP?\n",
        "\n",
        "->Method chaining in python allows multiple method calls on the same objetc in a single line. It works by having each method return self, enabling successive calls. This approach improves code readability and reduces the need for multiple lines of code.\n",
        "\n"
      ],
      "metadata": {
        "id": "8xaink5jfHpX"
      }
    },
    {
      "cell_type": "markdown",
      "source": [
        "25. What is the purpose of the __call__ method in Python?\n",
        "\n",
        "->The__call__method in python allows an instance of a class to be called like a function. This makes objects behave like functions while retaining state and attributes.\n",
        "\n"
      ],
      "metadata": {
        "id": "B8-vr68Afvbj"
      }
    },
    {
      "cell_type": "markdown",
      "source": [
        "**Practical:**"
      ],
      "metadata": {
        "id": "fGCUyEA3gNcF"
      }
    },
    {
      "cell_type": "markdown",
      "source": [
        "1. Create a parent class Animal with a method speak() that prints a generic message. Create a child class Dog\n",
        "that overrides the speak() method to print \"Bark!\"."
      ],
      "metadata": {
        "id": "Wymm8UGfwKMl"
      }
    },
    {
      "cell_type": "code",
      "source": [
        "class Animal:\n",
        "  def speak(self):\n",
        "    print(\"This animal makes a sound.\")\n",
        "\n",
        "class Dog(Animal):\n",
        "  def speak(self):\n",
        "    print(\"Bark!\")\n",
        "\n",
        "animal = Animal()\n",
        "dog = Dog()\n",
        "\n",
        "animal.speak()\n",
        "dog.speak()"
      ],
      "metadata": {
        "colab": {
          "base_uri": "https://localhost:8080/"
        },
        "id": "TMcwnc38wPgY",
        "outputId": "db3fa8e1-a81f-48b9-921f-aa5228b738ad"
      },
      "execution_count": 1,
      "outputs": [
        {
          "output_type": "stream",
          "name": "stdout",
          "text": [
            "This animal makes a sound.\n",
            "Bark!\n"
          ]
        }
      ]
    },
    {
      "cell_type": "markdown",
      "source": [
        "2. Write a program to create an abstract class Shape with a method area(). Derive classes Circle and Rectangle\n",
        "from it and implement the area() method in both."
      ],
      "metadata": {
        "id": "JZ_hWDI2xKJF"
      }
    },
    {
      "cell_type": "code",
      "source": [
        "from abc import ABC, abstractmethod\n",
        "import math\n",
        "\n",
        "class Shape(ABC):\n",
        "  @abstractmethod\n",
        "  def area(self):\n",
        "    pass\n",
        "\n",
        "\n",
        "class Circle(Shape):\n",
        "  def __init__(self, radius):\n",
        "    self.radius = radius\n",
        "\n",
        "  def area(self):\n",
        "      return math.pi * self.radius ** 2\n",
        "\n",
        "class Rectangle(Shape):\n",
        "  def __init__(self, length, width):\n",
        "    self.length = length\n",
        "    self.width = width\n",
        "\n",
        "  def area(self):\n",
        "      return self.length * self.width\n",
        "\n",
        "circle = Circle(5)\n",
        "rectangle = Rectangle(4, 6)\n",
        "\n",
        "print(f\"Circle Area: {circle.area():.2f}\")\n",
        "print(f\"Rectangle Area: {rectangle.area()}\")\n",
        ""
      ],
      "metadata": {
        "colab": {
          "base_uri": "https://localhost:8080/"
        },
        "id": "nYHLdQUQxD76",
        "outputId": "ec7057ef-fe9e-46ae-8806-c81012b0d5aa"
      },
      "execution_count": 7,
      "outputs": [
        {
          "output_type": "stream",
          "name": "stdout",
          "text": [
            "Circle Area: 78.54\n",
            "Rectangle Area: 24\n"
          ]
        }
      ]
    },
    {
      "cell_type": "markdown",
      "source": [
        "3. Implement a multi-level inheritance scenario where a class Vehicle has an attribute type. Derive a class Car\n",
        "and further derive a class ElectricCar that adds a battery attribute."
      ],
      "metadata": {
        "id": "ZlF8l6NQ047Y"
      }
    },
    {
      "cell_type": "code",
      "source": [
        "class Vehicle:\n",
        "  def __init__(self, type):\n",
        "    self.type = type\n",
        "\n",
        "  def show_type(self):\n",
        "    print(f\"Vehicale Type: {self.type}\")\n",
        "\n",
        "class Car(Vehicle):\n",
        "  def __init__(self, brand, type=\"Car\"):\n",
        "    super().__init__(type)\n",
        "    self.brand = brand\n",
        "\n",
        "  def show_brand(self):\n",
        "    print(f\"Car Brand: {self.brand}\")\n",
        "\n",
        "class ElectricCar(Car):\n",
        "  def __init__(self, brand, battery_capacity):\n",
        "      super().__init__(brand)\n",
        "      self.battery_capacity = battery_capacity\n",
        "\n",
        "  def show_battery(self):\n",
        "    print(f\"Battery Capacity: {self.battery_capacity} kwh\")\n",
        "\n",
        "tesla = ElectricCar(\"Tesla\", 75)\n",
        "\n",
        "tesla.show_type()\n",
        "tesla.show_battery()\n",
        "tesla.show_brand()\n",
        "\n",
        "\n",
        "\n"
      ],
      "metadata": {
        "colab": {
          "base_uri": "https://localhost:8080/"
        },
        "id": "eUV9QrK1zgwy",
        "outputId": "304cc2fc-255e-420b-cb47-b58572ee5b38"
      },
      "execution_count": 22,
      "outputs": [
        {
          "output_type": "stream",
          "name": "stdout",
          "text": [
            "Vehicale Type: Car\n",
            "Battery Capacity: 75 kwh\n",
            "Car Brand: Tesla\n"
          ]
        }
      ]
    },
    {
      "cell_type": "markdown",
      "source": [
        "4. Demonstrate polymorphism by creating a base class Bird with a method fly(). Create two derived classes\n",
        "Sparrow and Penguin that override the fly() method."
      ],
      "metadata": {
        "id": "N5uqKlks7Ie4"
      }
    },
    {
      "cell_type": "code",
      "source": [
        "class Bird:\n",
        "  def fly(self):\n",
        "    print(\"Some birds can fly.\")\n",
        "\n",
        "class Sparrow(Bird):\n",
        "  def fly(Self):\n",
        "    print(\"Sparrow flies high in the sky.\")\n",
        "\n",
        "class Penguin(Bird):\n",
        "  def fly(self):\n",
        "    print(\"Penguins cannot fly, they swim instead.\")\n",
        "\n",
        "def bird_flight(bird):\n",
        "  bird.fly()\n",
        "\n",
        "sparrow = Sparrow()\n",
        "penguin = Penguin()\n",
        "\n",
        "bird_flight(sparrow)\n",
        "bird_flight(penguin)\n",
        "\n"
      ],
      "metadata": {
        "colab": {
          "base_uri": "https://localhost:8080/"
        },
        "id": "EBzQfqOj3j5p",
        "outputId": "f0c90a42-7833-42f1-ae41-da32b85a7b0e"
      },
      "execution_count": 23,
      "outputs": [
        {
          "output_type": "stream",
          "name": "stdout",
          "text": [
            "Sparrow flies high in the sky.\n",
            "Penguins cannot fly, they swim instead.\n"
          ]
        }
      ]
    },
    {
      "cell_type": "markdown",
      "source": [
        "5. Write a program to demonstrate encapsulation by creating a class BankAccount with private attributes\n",
        "balance and methods to deposit, withdraw, and check balance."
      ],
      "metadata": {
        "id": "GSv8_yf48fSH"
      }
    },
    {
      "cell_type": "code",
      "source": [
        "class BankAccount:\n",
        "  def __init__(self, account_holder, initial_balance=0):\n",
        "    self.account_holder = account_holder\n",
        "    self.__balance = initial_balance\n",
        "\n",
        "  def deposit(self, amount):\n",
        "    if amount > 0:\n",
        "      self.__balance += amount\n",
        "      print(f\"Deposited: ${amount:.2f}\")\n",
        "    else:\n",
        "      print(\"Deposit amount must be positive.\")\n",
        "\n",
        "  def withdraw(self, amount):\n",
        "    if 0 < amount <= self.__balance:\n",
        "      self.__balance -= amount\n",
        "      print(f\"withdrawn: ${amount:.2f}\")\n",
        "    else:\n",
        "      print(\"Insufficient balance or invalid amount.\")\n",
        "\n",
        "  def check_balance(self):\n",
        "      print(f\"Account Balance: ${self.__balance:.2f}\")\n",
        "\n",
        "account = BankAccount(\"Alice\", 500)\n",
        "\n",
        "account.deposit(200)\n",
        "account.withdraw(100)\n",
        "account.check_balance()"
      ],
      "metadata": {
        "colab": {
          "base_uri": "https://localhost:8080/"
        },
        "id": "osFdeyjm8dMH",
        "outputId": "271dfc29-5a65-474b-f381-6362261fd1e9"
      },
      "execution_count": 26,
      "outputs": [
        {
          "output_type": "stream",
          "name": "stdout",
          "text": [
            "Deposited: $200.00\n",
            "withdrawn: $100.00\n",
            "Account Balance: $600.00\n"
          ]
        }
      ]
    },
    {
      "cell_type": "markdown",
      "source": [
        "6. Demonstrate runtime polymorphism using a method play() in a base class Instrument. Derive classes Guitar\n",
        "and Piano that implement their own version of play()."
      ],
      "metadata": {
        "id": "o6nvfMEr_fb0"
      }
    },
    {
      "cell_type": "code",
      "source": [
        "class Instrument:\n",
        "  def play(self):\n",
        "    print(\"Playing an instrument.\")\n",
        "\n",
        "class Guitar(Instrument):\n",
        "  def play(self):\n",
        "    print(\"Strumming the guitar!\")\n",
        "\n",
        "class Piano(Instrument):\n",
        "  def play(self):\n",
        "    print(\"Playing the piano keys!\")\n",
        "\n",
        "def start_playing(instrument):\n",
        "    instrument.play()\n",
        "\n",
        "guitar = Guitar()\n",
        "piano = Piano()\n",
        "\n",
        "start_playing(guitar)\n",
        "start_playing(piano)\n"
      ],
      "metadata": {
        "colab": {
          "base_uri": "https://localhost:8080/"
        },
        "id": "e0F0ftSz_YMa",
        "outputId": "1ef321c6-73a8-4119-e72d-de5935c47e8b"
      },
      "execution_count": 32,
      "outputs": [
        {
          "output_type": "stream",
          "name": "stdout",
          "text": [
            "Strumming the guitar!\n",
            "Playing the piano keys!\n"
          ]
        }
      ]
    },
    {
      "cell_type": "markdown",
      "source": [
        "7. Create a class MathOperations with a class method add_numbers() to add two numbers and a static\n",
        "method subtract_numbers() to subtract two numbers.\n"
      ],
      "metadata": {
        "id": "Jpjmjs2bBnjm"
      }
    },
    {
      "cell_type": "code",
      "source": [
        "class MathOperations:\n",
        "  @classmethod\n",
        "  def add_numbers(cls, a, b):\n",
        "    return a + b\n",
        "\n",
        "  @staticmethod\n",
        "  def subtract_numbers(a, b):\n",
        "    return a - b\n",
        "\n",
        "sum_result = MathOperations.add_numbers(10, 5)\n",
        "difference_result = MathOperations.subtract_numbers(10, 5)\n",
        "\n",
        "print(f\"Sum: {sum_result}\")\n",
        "print(f\"Difference: {difference_result}\")\n"
      ],
      "metadata": {
        "colab": {
          "base_uri": "https://localhost:8080/"
        },
        "id": "gsFmx0IRBTng",
        "outputId": "8d10dd2a-39e9-430d-e9e6-95e117326103"
      },
      "execution_count": 34,
      "outputs": [
        {
          "output_type": "stream",
          "name": "stdout",
          "text": [
            "Sum: 15\n",
            "Difference: 5\n"
          ]
        }
      ]
    },
    {
      "cell_type": "markdown",
      "source": [
        "8. Implement a class Person with a class method to count the total number of persons created."
      ],
      "metadata": {
        "id": "-kI-2ENYDLut"
      }
    },
    {
      "cell_type": "code",
      "source": [
        "class Person:\n",
        "  count = 0\n",
        "\n",
        "  def __init__(self, name):\n",
        "    self.name = name\n",
        "    Person.count += 1\n",
        "\n",
        "  @classmethod\n",
        "  def total_persons(cls):\n",
        "    return f\"Total persons created: {cls.count}\"\n",
        "\n",
        "p1 = Person(\"Alice\")\n",
        "p2 = Person(\"Bob\")\n",
        "p3 = Person(\"Charlie\")\n",
        "\n",
        "print(Person.total_persons())"
      ],
      "metadata": {
        "colab": {
          "base_uri": "https://localhost:8080/"
        },
        "id": "-PG7gb2UCbqS",
        "outputId": "4ab921ec-02b2-42a7-a8a9-d7c134a8d5e2"
      },
      "execution_count": 35,
      "outputs": [
        {
          "output_type": "stream",
          "name": "stdout",
          "text": [
            "Total persons created: 3\n"
          ]
        }
      ]
    },
    {
      "cell_type": "markdown",
      "source": [
        "9. Write a class Fraction with attributes numerator and denominator. Override the str method to display the\n",
        "fraction as \"numerator/denominator\"."
      ],
      "metadata": {
        "id": "bVDh3dP7EQTJ"
      }
    },
    {
      "cell_type": "code",
      "source": [
        "class Fraction:\n",
        "  def __init__(self, numerator, denominator):\n",
        "    if denominator == 0:\n",
        "      raise ValueError(\"Denominator cannot be zero.\")\n",
        "    self.numerator = numerator\n",
        "    self.denominator = denominator\n",
        "\n",
        "  def __str__(self):\n",
        "    return f\"{self.numerator}/{self.denominator}\"\n",
        "\n",
        "frace1 = Fraction(3, 4)\n",
        "frace2 = Fraction(5, 8)\n",
        "\n",
        "print(frace1)\n",
        "print(frace2)\n"
      ],
      "metadata": {
        "colab": {
          "base_uri": "https://localhost:8080/"
        },
        "id": "mHHFx1TfENg5",
        "outputId": "f8e01cf5-8fe8-48c6-f9bc-e60e98781a2b"
      },
      "execution_count": 36,
      "outputs": [
        {
          "output_type": "stream",
          "name": "stdout",
          "text": [
            "3/4\n",
            "5/8\n"
          ]
        }
      ]
    },
    {
      "cell_type": "markdown",
      "source": [
        "10. Demonstrate operator overloading by creating a class Vector and overriding the add method to add two\n",
        "vectors."
      ],
      "metadata": {
        "id": "AQocRdXWFwwE"
      }
    },
    {
      "cell_type": "code",
      "source": [
        "class Vector:\n",
        "  def __init__(self, x, y):\n",
        "    self.x = x\n",
        "    self.y = y\n",
        "\n",
        "  def __add__(self, other):\n",
        "    if isinstance(other, Vector):\n",
        "      return Vector(self.x + other.x, self.y + other.y)\n",
        "      raise TypeError(\"Operands must be of type Vector\")\n",
        "\n",
        "  def __str__(self):\n",
        "    return f\"({self.x, {self.y}})\"\n",
        "\n",
        "v1 = Vector(3, 4)\n",
        "v2 = Vector(1, 2)\n",
        "\n",
        "v3 = v1 + v2\n",
        "\n",
        "print(v3)"
      ],
      "metadata": {
        "colab": {
          "base_uri": "https://localhost:8080/"
        },
        "id": "tg8C9dGBFvPx",
        "outputId": "39b5087d-cc78-4e24-faff-fb3ada14ff7d"
      },
      "execution_count": 39,
      "outputs": [
        {
          "output_type": "stream",
          "name": "stdout",
          "text": [
            "((4, {6}))\n"
          ]
        }
      ]
    },
    {
      "cell_type": "markdown",
      "source": [
        "11. Create a class Person with attributes name and age. Add a method greet() that prints \"Hello, my name is\n",
        "{name} and I am {age} years old.\""
      ],
      "metadata": {
        "id": "4S8bw6ycHXGz"
      }
    },
    {
      "cell_type": "code",
      "source": [
        "class Person:\n",
        "  def __init__(self, name, age):\n",
        "    self.name = name\n",
        "    self.age = age\n",
        "\n",
        "  def greet(self):\n",
        "    print(f\"Hello, my name is {self.name} and I am {self.age} years old.\")\n",
        "\n",
        "person1 = Person(\"Alice\", 25)\n",
        "\n",
        "person1.greet()"
      ],
      "metadata": {
        "colab": {
          "base_uri": "https://localhost:8080/"
        },
        "id": "4gB-l516HNA6",
        "outputId": "8f60f3a8-6938-470f-84e4-aef6feeefef2"
      },
      "execution_count": 40,
      "outputs": [
        {
          "output_type": "stream",
          "name": "stdout",
          "text": [
            "Hello, my name is Alice and I am 25 years old.\n"
          ]
        }
      ]
    },
    {
      "cell_type": "markdown",
      "source": [
        "12. Implement a class Student with attributes name and grades. Create a method average_grade() to compute\n",
        "the average of the grades."
      ],
      "metadata": {
        "id": "oZLiogX3IO5k"
      }
    },
    {
      "cell_type": "code",
      "source": [
        "class Student:\n",
        "  def __init__(self, name, grades):\n",
        "    self.name = name\n",
        "    self.grades = grades\n",
        "\n",
        "  def avarage_grade(self):\n",
        "    if not self.grades:\n",
        "      return 0\n",
        "    return sum(self.grades) / len(self.grades)\n",
        "\n",
        "student1 = Student(\"Alice\", [85, 90, 78, 92])\n",
        "\n",
        "print(f\"{student1.name}'s Avarage Grade: {student1.avarage_grade():.2f}\")\n",
        "\n"
      ],
      "metadata": {
        "colab": {
          "base_uri": "https://localhost:8080/"
        },
        "id": "fAo-rkD2IY_W",
        "outputId": "2895308d-6b9b-4a49-bf83-b79b181be518"
      },
      "execution_count": 42,
      "outputs": [
        {
          "output_type": "stream",
          "name": "stdout",
          "text": [
            "Alice's Avarage Grade: 86.25\n"
          ]
        }
      ]
    },
    {
      "cell_type": "markdown",
      "source": [
        "13. Create a class Rectangle with methods set_dimensions() to set the dimensions and area() to calculate the\n",
        "area."
      ],
      "metadata": {
        "id": "f9lr9RzEKR_u"
      }
    },
    {
      "cell_type": "code",
      "source": [
        "class Rectangle:\n",
        "  def __init__(self, length=0, width=0):\n",
        "    self.length = length\n",
        "    self.width = width\n",
        "\n",
        "  def set_dimensions(self, length,width):\n",
        "    self.length = length\n",
        "    self.width = width\n",
        "\n",
        "  def area(self):\n",
        "    return self.length * self.width\n",
        "\n",
        "rect = Rectangle()\n",
        "\n",
        "rect.set_dimensions(5, 10)\n",
        "\n",
        "print(f\"Rectangle Area: {rect.area()}\")"
      ],
      "metadata": {
        "colab": {
          "base_uri": "https://localhost:8080/"
        },
        "id": "4GO7gsyYINjh",
        "outputId": "3fb8e455-2d9a-41be-b2e2-141bc6deb762"
      },
      "execution_count": 44,
      "outputs": [
        {
          "output_type": "stream",
          "name": "stdout",
          "text": [
            "Rectangle Area: 50\n"
          ]
        }
      ]
    },
    {
      "cell_type": "markdown",
      "source": [
        "14. Create a class Employee with a method calculate_salary() that computes the salary based on hours worked\n",
        "and hourly rate. Create a derived class Manager that adds a bonus to the salary."
      ],
      "metadata": {
        "id": "ytJ4d9RSL-_s"
      }
    },
    {
      "cell_type": "code",
      "source": [
        "class Employee:\n",
        "  def __init__(self, name, hours_worked, hourly_rate):\n",
        "    self.name = name\n",
        "    self.hours_worked = hours_worked\n",
        "    self.hourly_rate = hourly_rate\n",
        "\n",
        "  def calculate_salary(self):\n",
        "    return self.hours_worked * self.hourly_rate\n",
        "\n",
        "class Manager(Employee):\n",
        "  def __init__(self, name, hours_worked, hourly_rate, bonus):\n",
        "    super().__init__(name, hours_worked, hourly_rate)\n",
        "    self.bonus = bonus\n",
        "\n",
        "  def calculate_salary(self):\n",
        "    return super().calculate_salary() + self.bonus\n",
        "\n",
        "emp = Employee(\"Alice\", 40, 20)\n",
        "mgr = Manager(\"Bob\", 40, 30, 500)\n",
        "\n",
        "print(f\"{emp.name}'s Salary: ${emp.calculate_salary()}\")\n",
        "\n",
        "print(f\"{mgr.name}'s Salary (with bonus): ${mgr.calculate_salary()}\")"
      ],
      "metadata": {
        "colab": {
          "base_uri": "https://localhost:8080/"
        },
        "id": "ks64MeStLTtS",
        "outputId": "c86c26d9-d49d-4890-96f2-918d482d747d"
      },
      "execution_count": 46,
      "outputs": [
        {
          "output_type": "stream",
          "name": "stdout",
          "text": [
            "Alice's Salary: $800\n",
            "Bob's Salary (with bonus): $1700\n"
          ]
        }
      ]
    },
    {
      "cell_type": "markdown",
      "source": [
        "15. Create a class Product with attributes name, price, and quantity. Implement a method total_price() that\n",
        "calculates the total price of the product.\n",
        "\n",
        "\n"
      ],
      "metadata": {
        "id": "cTRa6RgNOiYh"
      }
    },
    {
      "cell_type": "code",
      "source": [
        "class Product:\n",
        "  def __init__(self, name, price, quantity):\n",
        "    self.name = name\n",
        "    self.price = price\n",
        "    self.quantity = quantity\n",
        "\n",
        "  def total_price(self):\n",
        "    return self.price * self.quantity\n",
        "\n",
        "product1 = Product(\"Laptop\", 800, 3)\n",
        "\n",
        "print(f\"Total price of {product1.name}: ${product1.total_price()}\")"
      ],
      "metadata": {
        "colab": {
          "base_uri": "https://localhost:8080/"
        },
        "id": "SJjXgJlQOesX",
        "outputId": "4c15a1b1-a32d-432c-a238-c875ba2bae16"
      },
      "execution_count": 47,
      "outputs": [
        {
          "output_type": "stream",
          "name": "stdout",
          "text": [
            "Total price of Laptop: $2400\n"
          ]
        }
      ]
    },
    {
      "cell_type": "markdown",
      "source": [
        "16. Create a class Animal with an abstract method sound(). Create two derived classes Cow and Sheep that\n",
        "implement the sound() method."
      ],
      "metadata": {
        "id": "jILPTQ0oPoVZ"
      }
    },
    {
      "cell_type": "code",
      "source": [
        "from abc import ABC, abstractmethod\n",
        "\n",
        "class Animal(ABC):\n",
        "  @abstractmethod\n",
        "  def sound(self):\n",
        "    pass\n",
        "\n",
        "class Cow(Animal):\n",
        "  def sound(self):\n",
        "    return \"Moo!\"\n",
        "\n",
        "class Sheep(Animal):\n",
        "  def sound(self):\n",
        "    return \"Baa!\"\n",
        "\n",
        "cow = Cow()\n",
        "sheep = Sheep()\n",
        "\n",
        "print(f\"Cow: {cow.sound()}\")\n",
        "print(F\"Sheep: {sheep.sound()}\")\n"
      ],
      "metadata": {
        "colab": {
          "base_uri": "https://localhost:8080/"
        },
        "id": "r1i0G7BBPkWt",
        "outputId": "7565e6a2-4f26-47d3-fa89-a422d0162a72"
      },
      "execution_count": 50,
      "outputs": [
        {
          "output_type": "stream",
          "name": "stdout",
          "text": [
            "Cow: Moo!\n",
            "Sheep: Baa!\n"
          ]
        }
      ]
    },
    {
      "cell_type": "markdown",
      "source": [
        "17. Create a class Book with attributes title, author, and year_published. Add a method get_book_info() that\n",
        "returns a formatted string with the book's details."
      ],
      "metadata": {
        "id": "SVyAU7OdQ63u"
      }
    },
    {
      "cell_type": "code",
      "source": [
        "class Book:\n",
        "  def __init__(self, title, author, year_published):\n",
        "    self.title = title\n",
        "    self.author = author\n",
        "    self.year_published = year_published\n",
        "\n",
        "  def get_book_info(self):\n",
        "    return f\"'{self.title}' by {self.author}, published in {self.year_published}.\"\n",
        "\n",
        "book1 = Book(\"To kill a Mockingboird\", \"Harper Lee\", 1960)\n",
        "\n",
        "print(book1.get_book_info())"
      ],
      "metadata": {
        "colab": {
          "base_uri": "https://localhost:8080/"
        },
        "id": "tDpfl5s1QtNj",
        "outputId": "8005ddad-0ce1-466f-da56-92baa209676a"
      },
      "execution_count": 52,
      "outputs": [
        {
          "output_type": "stream",
          "name": "stdout",
          "text": [
            "'To kill a Mockingboird' by Harper Lee, published in 1960.\n"
          ]
        }
      ]
    },
    {
      "cell_type": "markdown",
      "source": [
        "18. Create a class House with attributes address and price. Create a derived class Mansion that adds an\n",
        "attribute number_of_rooms.\n"
      ],
      "metadata": {
        "id": "_g2SX5H7SJSR"
      }
    },
    {
      "cell_type": "code",
      "source": [
        "class House:\n",
        "  def __init__(self, address, price):\n",
        "    self.address = address\n",
        "    self.price = price\n",
        "\n",
        "  def get_details(self):\n",
        "    return f\"Address: {self.address}, Price: ${self.price}\"\n",
        "\n",
        "class Mansion(House):\n",
        "  def __init__(self, address, price, number_of_rooms):\n",
        "    super().__init__(address, price)\n",
        "    self.number_of_rooms = number_of_rooms\n",
        "    self.price = price\n",
        "    self.address = address\n",
        "\n",
        "  def get_details(self):\n",
        "    return f\"Address: {self.address}, Price: ${self.price}, Rooms: {self.number_of_rooms}\"\n",
        "\n",
        "house1 = House(\"123 Main St\", 250000)\n",
        "mansion1 = Mansion(\"456 Luxury ave\", 5000000, 10)\n",
        "\n",
        "print(house1.get_details())\n",
        "\n",
        "print(mansion1.get_details())\n"
      ],
      "metadata": {
        "colab": {
          "base_uri": "https://localhost:8080/"
        },
        "id": "4iH3Fx2sSCk6",
        "outputId": "5a3e913b-7f35-48e3-e694-0f7a82f9009b"
      },
      "execution_count": 62,
      "outputs": [
        {
          "output_type": "stream",
          "name": "stdout",
          "text": [
            "Address: 123 Main St, Price: $250000\n",
            "Address: 456 Luxury ave, Price: $5000000, Rooms: 10\n"
          ]
        }
      ]
    }
  ]
}